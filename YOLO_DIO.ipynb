{
  "nbformat": 4,
  "nbformat_minor": 0,
  "metadata": {
    "colab": {
      "provenance": [],
      "gpuType": "T4",
      "authorship_tag": "ABX9TyNkgbij+tQYmen2MZXQwehR",
      "include_colab_link": true
    },
    "kernelspec": {
      "name": "python3",
      "display_name": "Python 3"
    },
    "language_info": {
      "name": "python"
    },
    "accelerator": "GPU"
  },
  "cells": [
    {
      "cell_type": "markdown",
      "metadata": {
        "id": "view-in-github",
        "colab_type": "text"
      },
      "source": [
        "<a href=\"https://colab.research.google.com/github/JPleal01/Dio_IA/blob/main/YOLO_DIO.ipynb\" target=\"_parent\"><img src=\"https://colab.research.google.com/assets/colab-badge.svg\" alt=\"Open In Colab\"/></a>"
      ]
    },
    {
      "cell_type": "code",
      "source": [
        "!git clone https://github.com/pjreddie/darknet\n",
        "%cd darknet\n",
        "!make"
      ],
      "metadata": {
        "id": "vLnb6Wv-AouJ"
      },
      "execution_count": null,
      "outputs": []
    },
    {
      "cell_type": "code",
      "source": [
        "!wget https://data.pjreddie.com/files/yolov3.weights\n"
      ],
      "metadata": {
        "id": "p73JHazWBQT9"
      },
      "execution_count": null,
      "outputs": []
    },
    {
      "cell_type": "code",
      "source": [
        "!./darknet detect cfg/yolov3.cfg yolov3.weights data/dog.jpg"
      ],
      "metadata": {
        "id": "u77IryuVBQug"
      },
      "execution_count": null,
      "outputs": []
    },
    {
      "cell_type": "code",
      "source": [
        "#Baixar arquivos\n",
        "def imShow(path):\n",
        "  import cv2\n",
        "  import matplotlib.pyplot as plt\n",
        "  %matplotlib inline\n",
        "\n",
        "  image = cv2.imread(path)\n",
        "  height, width = image.shape[:2]\n",
        "  resized_image = cv2.resize(image,(3*width, 3*height), interpolation = cv2.INTER_CUBIC)\n",
        "\n",
        "  fig = plt.gcf()\n",
        "  fig.set_size_inches(18, 10)\n",
        "  plt.axis(\"off\")\n",
        "\n",
        "  plt.imshow(cv2.cvtColor(resized_image, cv2.COLOR_BGR2RGB))\n",
        "  plt.show()\n",
        "\n",
        "\n",
        "def upload():\n",
        "  from google.colab import files\n",
        "  uploaded = files.upload()\n",
        "  for name, data in uploaded.items():\n",
        "    with open(name, 'wb') as f:\n",
        "      f.write(data)\n",
        "      print ('saved file', name)\n",
        "def download(path):\n",
        "  from google.colab import files\n",
        "  files.download(path)\n",
        "\n",
        "\n"
      ],
      "metadata": {
        "id": "U9tBO8SUE5_z"
      },
      "execution_count": null,
      "outputs": []
    },
    {
      "cell_type": "code",
      "source": [
        "imShow('predictions.jpg')"
      ],
      "metadata": {
        "id": "CfEdHmUaFQh1"
      },
      "execution_count": null,
      "outputs": []
    },
    {
      "cell_type": "code",
      "execution_count": null,
      "metadata": {
        "id": "1h74nvsBAlLj"
      },
      "outputs": [],
      "source": [
        "import os\n",
        "\n",
        "# Criar pastas\n",
        "os.makedirs('./coco/images', exist_ok=True)\n",
        "os.makedirs('./coco/annotations', exist_ok=True)\n",
        "\n",
        "# Baixar imagens de treino da COCO 2017\n",
        "!wget http://images.cocodataset.org/zips/train2017.zip\n",
        "!unzip -q train2017.zip -d ./coco/images/\n",
        "\n",
        "# Baixar anotações\n",
        "!wget http://images.cocodataset.org/annotations/annotations_trainval2017.zip\n",
        "!unzip -q annotations_trainval2017.zip -d ./coco/annotations/"
      ]
    },
    {
      "cell_type": "code",
      "source": [
        "import json\n",
        "\n",
        "# Carregar anotações\n",
        "with open('./coco/annotations/annotations/instances_train2017.json') as f:\n",
        "    data = json.load(f)\n",
        "\n",
        "# IDs das classes desejadas\n",
        "classes_desejadas = ['person', 'dog']\n",
        "ids_desejados = [cat['id'] for cat in data['categories'] if cat['name'] in classes_desejadas]\n",
        "\n",
        "# Filtrar imagens\n",
        "imagens_filtradas = set()\n",
        "for ann in data['annotations']:\n",
        "    if ann['category_id'] in ids_desejados:\n",
        "        imagens_filtradas.add(ann['image_id'])\n",
        "\n",
        "print(f\"Total de imagens com classes desejadas: {len(imagens_filtradas)}\")"
      ],
      "metadata": {
        "id": "ZeeXsgd6ClMG"
      },
      "execution_count": null,
      "outputs": []
    },
    {
      "cell_type": "code",
      "source": [
        "!pip install pycocotools tqdm\n",
        "\n",
        "\n",
        "import os\n",
        "import json\n",
        "from tqdm import tqdm\n",
        "from PIL import Image\n",
        "\n",
        "# Caminhos\n",
        "coco_json = './coco/annotations/annotations/instances_train2017.json'\n",
        "images_dir = './coco/images/train2017'\n",
        "labels_dir = './coco/labels/train2017'\n",
        "os.makedirs(labels_dir, exist_ok=True)\n",
        "\n",
        "# Carregar anotações COCO\n",
        "with open(coco_json) as f:\n",
        "    coco = json.load(f)\n",
        "\n",
        "# Mapear classes desejadas\n",
        "classes_desejadas = ['person', 'dog']\n",
        "class_map = {cat['id']: i for i, cat in enumerate(coco['categories']) if cat['name'] in classes_desejadas}\n",
        "name_to_id = {cat['name']: cat['id'] for cat in coco['categories']}\n",
        "\n",
        "# Mapear imagens\n",
        "image_id_to_filename = {img['id']: img['file_name'] for img in coco['images']}\n",
        "image_id_to_size = {img['id']: (img['width'], img['height']) for img in coco['images']}\n",
        "\n",
        "# Agrupar anotações por imagem\n",
        "annotations_by_image = {}\n",
        "for ann in coco['annotations']:\n",
        "    if ann['category_id'] in class_map:\n",
        "        img_id = ann['image_id']\n",
        "        annotations_by_image.setdefault(img_id, []).append(ann)\n",
        "\n",
        "# Converter para YOLO\n",
        "for img_id, anns in tqdm(annotations_by_image.items()):\n",
        "    img_file = image_id_to_filename[img_id]\n",
        "    width, height = image_id_to_size[img_id]\n",
        "    label_path = os.path.join(labels_dir, img_file.replace('.jpg', '.txt'))\n",
        "\n",
        "    with open(label_path, 'w') as f:\n",
        "        for ann in anns:\n",
        "            x, y, w, h = ann['bbox']\n",
        "            x_center = (x + w / 2) / width\n",
        "            y_center = (y + h / 2) / height\n",
        "            w /= width\n",
        "            h /= height\n",
        "            class_id = class_map[ann['category_id']]\n",
        "            f.write(f\"{class_id} {x_center:.6f} {y_center:.6f} {w:.6f} {h:.6f}\\n\")\n"
      ],
      "metadata": {
        "id": "TAwARmxFCqb8"
      },
      "execution_count": null,
      "outputs": []
    },
    {
      "cell_type": "code",
      "source": [
        "!./darknet detector train cfg/coco.data cfg/yolov3.cfg darknet53.conv.74\n"
      ],
      "metadata": {
        "id": "HajcD-A0Vxw1"
      },
      "execution_count": null,
      "outputs": []
    }
  ]
}