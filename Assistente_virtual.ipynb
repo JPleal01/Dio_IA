{
  "nbformat": 4,
  "nbformat_minor": 0,
  "metadata": {
    "colab": {
      "provenance": [],
      "gpuType": "T4",
      "authorship_tag": "ABX9TyMs4le8GVTUZ7OsOeXLAWzb",
      "include_colab_link": true
    },
    "kernelspec": {
      "name": "python3",
      "display_name": "Python 3"
    },
    "language_info": {
      "name": "python"
    },
    "accelerator": "GPU"
  },
  "cells": [
    {
      "cell_type": "markdown",
      "metadata": {
        "id": "view-in-github",
        "colab_type": "text"
      },
      "source": [
        "<a href=\"https://colab.research.google.com/github/JPleal01/Dio_IA/blob/main/Assistente_virtual.ipynb\" target=\"_parent\"><img src=\"https://colab.research.google.com/assets/colab-badge.svg\" alt=\"Open In Colab\"/></a>"
      ]
    },
    {
      "cell_type": "code",
      "execution_count": 1,
      "metadata": {
        "colab": {
          "base_uri": "https://localhost:8080/",
          "height": 401
        },
        "id": "nDBKvISqV0u6",
        "outputId": "069b3f16-cdcf-458d-fbc8-f5ed458ef691"
      },
      "outputs": [
        {
          "output_type": "stream",
          "name": "stdout",
          "text": [
            "Collecting gTTS\n",
            "  Downloading gTTS-2.5.4-py3-none-any.whl.metadata (4.1 kB)\n",
            "Requirement already satisfied: requests<3,>=2.27 in /usr/local/lib/python3.12/dist-packages (from gTTS) (2.32.4)\n",
            "Collecting click<8.2,>=7.1 (from gTTS)\n",
            "  Downloading click-8.1.8-py3-none-any.whl.metadata (2.3 kB)\n",
            "Requirement already satisfied: charset_normalizer<4,>=2 in /usr/local/lib/python3.12/dist-packages (from requests<3,>=2.27->gTTS) (3.4.3)\n",
            "Requirement already satisfied: idna<4,>=2.5 in /usr/local/lib/python3.12/dist-packages (from requests<3,>=2.27->gTTS) (3.10)\n",
            "Requirement already satisfied: urllib3<3,>=1.21.1 in /usr/local/lib/python3.12/dist-packages (from requests<3,>=2.27->gTTS) (2.5.0)\n",
            "Requirement already satisfied: certifi>=2017.4.17 in /usr/local/lib/python3.12/dist-packages (from requests<3,>=2.27->gTTS) (2025.8.3)\n",
            "Downloading gTTS-2.5.4-py3-none-any.whl (29 kB)\n",
            "Downloading click-8.1.8-py3-none-any.whl (98 kB)\n",
            "\u001b[2K   \u001b[90m━━━━━━━━━━━━━━━━━━━━━━━━━━━━━━━━━━━━━━━━\u001b[0m \u001b[32m98.2/98.2 kB\u001b[0m \u001b[31m9.8 MB/s\u001b[0m eta \u001b[36m0:00:00\u001b[0m\n",
            "\u001b[?25hInstalling collected packages: click, gTTS\n",
            "  Attempting uninstall: click\n",
            "    Found existing installation: click 8.2.1\n",
            "    Uninstalling click-8.2.1:\n",
            "      Successfully uninstalled click-8.2.1\n",
            "Successfully installed click-8.1.8 gTTS-2.5.4\n"
          ]
        },
        {
          "output_type": "execute_result",
          "data": {
            "text/plain": [
              "<IPython.lib.display.Audio object>"
            ],
            "text/html": [
              "\n",
              "                <audio  controls=\"controls\" >\n",
              "                    <source src=\"data:audio/x-wav;base64,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\" type=\"audio/x-wav\" />\n",
              "                    Your browser does not support the audio element.\n",
              "                </audio>\n",
              "              "
            ]
          },
          "metadata": {},
          "execution_count": 1
        }
      ],
      "source": [
        "!pip install gTTS\n",
        "\n",
        "#instalar a biblioteca gTTS !pip install gTTS\n",
        "\n",
        "from gtts import gTTS\n",
        "\n",
        "text_to_say = \"How are you doing?.\"\n",
        "\n",
        "language = \"en\"\n",
        "\n",
        "gtts_object = gTTS(text = text_to_say,\n",
        "                  lang = language,\n",
        "                  slow = False)\n",
        "\n",
        "gtts_object.save(\"/content/gtts.wav\")\n",
        "\n",
        "from IPython.display import Audio\n",
        "\n",
        "Audio(\"/content/gtts.wav\")\n",
        "\n",
        "french_text = \"Je vais au supermarché\"\n",
        "\n",
        "french_language = \"fr\"\n",
        "\n",
        "french_gtts_object = gTTS(text = french_text,\n",
        "                          lang = french_language,\n",
        "                          slow = True)\n",
        "\n",
        "french_gtts_object.save(\"/content/french.wav\")\n",
        "\n",
        "Audio(\"/content/french.wav\")"
      ]
    },
    {
      "cell_type": "code",
      "metadata": {
        "colab": {
          "base_uri": "https://localhost:8080/"
        },
        "id": "197f4a7f",
        "outputId": "966aa4bd-c4a6-437e-e2db-d70e5b2569f1"
      },
      "source": [
        "!pip install SpeechRecognition"
      ],
      "execution_count": 4,
      "outputs": [
        {
          "output_type": "stream",
          "name": "stdout",
          "text": [
            "Collecting SpeechRecognition\n",
            "  Downloading speechrecognition-3.14.3-py3-none-any.whl.metadata (30 kB)\n",
            "Requirement already satisfied: typing-extensions in /usr/local/lib/python3.12/dist-packages (from SpeechRecognition) (4.15.0)\n",
            "Downloading speechrecognition-3.14.3-py3-none-any.whl (32.9 MB)\n",
            "\u001b[2K   \u001b[90m━━━━━━━━━━━━━━━━━━━━━━━━━━━━━━━━━━━━━━━━\u001b[0m \u001b[32m32.9/32.9 MB\u001b[0m \u001b[31m72.0 MB/s\u001b[0m eta \u001b[36m0:00:00\u001b[0m\n",
            "\u001b[?25hInstalling collected packages: SpeechRecognition\n",
            "Successfully installed SpeechRecognition-3.14.3\n"
          ]
        }
      ]
    },
    {
      "cell_type": "code",
      "source": [
        "!pip install playsound\n",
        "!pip3 install pyjokes\n",
        "#!python -m pip install pyaudio\n",
        "\n"
      ],
      "metadata": {
        "colab": {
          "base_uri": "https://localhost:8080/"
        },
        "id": "y4E5n-JtW9Ib",
        "outputId": "367bffeb-a706-4b7e-fe2b-da9924fdbc0f"
      },
      "execution_count": 6,
      "outputs": [
        {
          "output_type": "stream",
          "name": "stdout",
          "text": [
            "Collecting playsound\n",
            "  Downloading playsound-1.3.0.tar.gz (7.7 kB)\n",
            "  Preparing metadata (setup.py) ... \u001b[?25l\u001b[?25hdone\n",
            "Building wheels for collected packages: playsound\n",
            "  Building wheel for playsound (setup.py) ... \u001b[?25l\u001b[?25hdone\n",
            "  Created wheel for playsound: filename=playsound-1.3.0-py3-none-any.whl size=7020 sha256=e332fbb3f4c1819768d83cc7ddcdff19128c54c564c773b9c420fa478a186939\n",
            "  Stored in directory: /root/.cache/pip/wheels/cf/42/ff/7c587bae55eec67b909ca316b250d9b4daedbf272a3cbeb907\n",
            "Successfully built playsound\n",
            "Installing collected packages: playsound\n",
            "Successfully installed playsound-1.3.0\n",
            "Collecting pyjokes\n",
            "  Downloading pyjokes-0.8.3-py3-none-any.whl.metadata (3.4 kB)\n",
            "Downloading pyjokes-0.8.3-py3-none-any.whl (47 kB)\n",
            "\u001b[2K   \u001b[90m━━━━━━━━━━━━━━━━━━━━━━━━━━━━━━━━━━━━━━━━\u001b[0m \u001b[32m47.6/47.6 kB\u001b[0m \u001b[31m2.9 MB/s\u001b[0m eta \u001b[36m0:00:00\u001b[0m\n",
            "\u001b[?25hInstalling collected packages: pyjokes\n",
            "Successfully installed pyjokes-0.8.3\n",
            "Collecting pyaudio\n",
            "  Downloading PyAudio-0.2.14.tar.gz (47 kB)\n",
            "\u001b[2K     \u001b[90m━━━━━━━━━━━━━━━━━━━━━━━━━━━━━━━━━━━━━━━━\u001b[0m \u001b[32m47.1/47.1 kB\u001b[0m \u001b[31m2.6 MB/s\u001b[0m eta \u001b[36m0:00:00\u001b[0m\n",
            "\u001b[?25h  Installing build dependencies ... \u001b[?25l\u001b[?25hdone\n",
            "  Getting requirements to build wheel ... \u001b[?25l\u001b[?25hdone\n",
            "  Preparing metadata (pyproject.toml) ... \u001b[?25l\u001b[?25hdone\n",
            "Building wheels for collected packages: pyaudio\n",
            "  \u001b[1;31merror\u001b[0m: \u001b[1msubprocess-exited-with-error\u001b[0m\n",
            "  \n",
            "  \u001b[31m×\u001b[0m \u001b[32mBuilding wheel for pyaudio \u001b[0m\u001b[1;32m(\u001b[0m\u001b[32mpyproject.toml\u001b[0m\u001b[1;32m)\u001b[0m did not run successfully.\n",
            "  \u001b[31m│\u001b[0m exit code: \u001b[1;36m1\u001b[0m\n",
            "  \u001b[31m╰─>\u001b[0m See above for output.\n",
            "  \n",
            "  \u001b[1;35mnote\u001b[0m: This error originates from a subprocess, and is likely not a problem with pip.\n",
            "  Building wheel for pyaudio (pyproject.toml) ... \u001b[?25l\u001b[?25herror\n",
            "\u001b[31m  ERROR: Failed building wheel for pyaudio\u001b[0m\u001b[31m\n",
            "\u001b[0mFailed to build pyaudio\n",
            "\u001b[31mERROR: ERROR: Failed to build installable wheels for some pyproject.toml based projects (pyaudio)\u001b[0m\u001b[31m\n",
            "\u001b[0m"
          ]
        }
      ]
    },
    {
      "cell_type": "code",
      "source": [
        "#!pip install pyaudio\n",
        "!pip install wikipedia\n",
        "!pip install winshell\n",
        "!pip install pygame"
      ],
      "metadata": {
        "colab": {
          "base_uri": "https://localhost:8080/"
        },
        "id": "0nYHmuTKXVpK",
        "outputId": "9be5eac4-be51-4e5e-8b5a-656b9c6a8a1d"
      },
      "execution_count": 7,
      "outputs": [
        {
          "output_type": "stream",
          "name": "stdout",
          "text": [
            "Collecting pyaudio\n",
            "  Using cached PyAudio-0.2.14.tar.gz (47 kB)\n",
            "  Installing build dependencies ... \u001b[?25l\u001b[?25hdone\n",
            "  Getting requirements to build wheel ... \u001b[?25l\u001b[?25hdone\n",
            "  Preparing metadata (pyproject.toml) ... \u001b[?25l\u001b[?25hdone\n",
            "Building wheels for collected packages: pyaudio\n",
            "  \u001b[1;31merror\u001b[0m: \u001b[1msubprocess-exited-with-error\u001b[0m\n",
            "  \n",
            "  \u001b[31m×\u001b[0m \u001b[32mBuilding wheel for pyaudio \u001b[0m\u001b[1;32m(\u001b[0m\u001b[32mpyproject.toml\u001b[0m\u001b[1;32m)\u001b[0m did not run successfully.\n",
            "  \u001b[31m│\u001b[0m exit code: \u001b[1;36m1\u001b[0m\n",
            "  \u001b[31m╰─>\u001b[0m See above for output.\n",
            "  \n",
            "  \u001b[1;35mnote\u001b[0m: This error originates from a subprocess, and is likely not a problem with pip.\n",
            "  Building wheel for pyaudio (pyproject.toml) ... \u001b[?25l\u001b[?25herror\n",
            "\u001b[31m  ERROR: Failed building wheel for pyaudio\u001b[0m\u001b[31m\n",
            "\u001b[0mFailed to build pyaudio\n",
            "\u001b[31mERROR: ERROR: Failed to build installable wheels for some pyproject.toml based projects (pyaudio)\u001b[0m\u001b[31m\n",
            "\u001b[0mCollecting wikipedia\n",
            "  Downloading wikipedia-1.4.0.tar.gz (27 kB)\n",
            "  Preparing metadata (setup.py) ... \u001b[?25l\u001b[?25hdone\n",
            "Requirement already satisfied: beautifulsoup4 in /usr/local/lib/python3.12/dist-packages (from wikipedia) (4.13.5)\n",
            "Requirement already satisfied: requests<3.0.0,>=2.0.0 in /usr/local/lib/python3.12/dist-packages (from wikipedia) (2.32.4)\n",
            "Requirement already satisfied: charset_normalizer<4,>=2 in /usr/local/lib/python3.12/dist-packages (from requests<3.0.0,>=2.0.0->wikipedia) (3.4.3)\n",
            "Requirement already satisfied: idna<4,>=2.5 in /usr/local/lib/python3.12/dist-packages (from requests<3.0.0,>=2.0.0->wikipedia) (3.10)\n",
            "Requirement already satisfied: urllib3<3,>=1.21.1 in /usr/local/lib/python3.12/dist-packages (from requests<3.0.0,>=2.0.0->wikipedia) (2.5.0)\n",
            "Requirement already satisfied: certifi>=2017.4.17 in /usr/local/lib/python3.12/dist-packages (from requests<3.0.0,>=2.0.0->wikipedia) (2025.8.3)\n",
            "Requirement already satisfied: soupsieve>1.2 in /usr/local/lib/python3.12/dist-packages (from beautifulsoup4->wikipedia) (2.8)\n",
            "Requirement already satisfied: typing-extensions>=4.0.0 in /usr/local/lib/python3.12/dist-packages (from beautifulsoup4->wikipedia) (4.15.0)\n",
            "Building wheels for collected packages: wikipedia\n",
            "  Building wheel for wikipedia (setup.py) ... \u001b[?25l\u001b[?25hdone\n",
            "  Created wheel for wikipedia: filename=wikipedia-1.4.0-py3-none-any.whl size=11678 sha256=5b8a50cc19da544ec23a44348a65e90be4624c68d8abb9834e4174e62e3a0123\n",
            "  Stored in directory: /root/.cache/pip/wheels/63/47/7c/a9688349aa74d228ce0a9023229c6c0ac52ca2a40fe87679b8\n",
            "Successfully built wikipedia\n",
            "Installing collected packages: wikipedia\n",
            "Successfully installed wikipedia-1.4.0\n",
            "Collecting winshell\n",
            "  Downloading winshell-0.6.zip (10 kB)\n",
            "  Preparing metadata (setup.py) ... \u001b[?25l\u001b[?25hdone\n",
            "Building wheels for collected packages: winshell\n",
            "  Building wheel for winshell (setup.py) ... \u001b[?25l\u001b[?25hdone\n",
            "  Created wheel for winshell: filename=winshell-0.6-py3-none-any.whl size=9401 sha256=47df962db50a7c6d7ad8bab60ff290575c4c5e73698a22daff6f15156cad827b\n",
            "  Stored in directory: /root/.cache/pip/wheels/83/d5/2d/ec3d833cedcb43120b1aca535f5aa117da6710bf8c774fa117\n",
            "Successfully built winshell\n",
            "Installing collected packages: winshell\n",
            "Successfully installed winshell-0.6\n",
            "Requirement already satisfied: pygame in /usr/local/lib/python3.12/dist-packages (2.6.1)\n"
          ]
        }
      ]
    },
    {
      "cell_type": "code",
      "metadata": {
        "colab": {
          "base_uri": "https://localhost:8080/"
        },
        "id": "99eeefc2",
        "outputId": "b7f32595-e8d5-4d95-a2c8-cfef31e4f70b"
      },
      "source": [
        "!apt-get update\n",
        "!apt-get install -y portaudio19-dev\n",
        "!pip install pyaudio"
      ],
      "execution_count": 11,
      "outputs": [
        {
          "output_type": "stream",
          "name": "stdout",
          "text": [
            "\r0% [Working]\r            \rHit:1 https://cli.github.com/packages stable InRelease\n",
            "Get:2 https://cloud.r-project.org/bin/linux/ubuntu jammy-cran40/ InRelease [3,632 B]\n",
            "Hit:3 http://archive.ubuntu.com/ubuntu jammy InRelease\n",
            "Get:4 http://security.ubuntu.com/ubuntu jammy-security InRelease [129 kB]\n",
            "Get:5 https://r2u.stat.illinois.edu/ubuntu jammy InRelease [6,555 B]\n",
            "Get:6 https://developer.download.nvidia.com/compute/cuda/repos/ubuntu2204/x86_64  InRelease [1,581 B]\n",
            "Get:7 http://archive.ubuntu.com/ubuntu jammy-updates InRelease [128 kB]\n",
            "Get:8 https://r2u.stat.illinois.edu/ubuntu jammy/main amd64 Packages [2,802 kB]\n",
            "Get:9 https://developer.download.nvidia.com/compute/cuda/repos/ubuntu2204/x86_64  Packages [2,008 kB]\n",
            "Get:10 https://ppa.launchpadcontent.net/deadsnakes/ppa/ubuntu jammy InRelease [18.1 kB]\n",
            "Hit:11 https://ppa.launchpadcontent.net/graphics-drivers/ppa/ubuntu jammy InRelease\n",
            "Get:12 https://r2u.stat.illinois.edu/ubuntu jammy/main all Packages [9,290 kB]\n",
            "Get:13 http://archive.ubuntu.com/ubuntu jammy-backports InRelease [127 kB]\n",
            "Get:14 http://security.ubuntu.com/ubuntu jammy-security/universe amd64 Packages [1,274 kB]\n",
            "Hit:15 https://ppa.launchpadcontent.net/ubuntugis/ppa/ubuntu jammy InRelease\n",
            "Get:16 https://ppa.launchpadcontent.net/deadsnakes/ppa/ubuntu jammy/main amd64 Packages [33.2 kB]\n",
            "Get:17 http://archive.ubuntu.com/ubuntu jammy-updates/main amd64 Packages [3,642 kB]\n",
            "Get:18 http://security.ubuntu.com/ubuntu jammy-security/restricted amd64 Packages [5,496 kB]\n",
            "Get:19 http://archive.ubuntu.com/ubuntu jammy-updates/multiverse amd64 Packages [69.1 kB]\n",
            "Get:20 http://archive.ubuntu.com/ubuntu jammy-updates/restricted amd64 Packages [5,691 kB]\n",
            "Get:21 http://archive.ubuntu.com/ubuntu jammy-updates/universe amd64 Packages [1,581 kB]\n",
            "Get:22 http://security.ubuntu.com/ubuntu jammy-security/multiverse amd64 Packages [71.0 kB]\n",
            "Get:23 http://security.ubuntu.com/ubuntu jammy-security/main amd64 Packages [3,327 kB]\n",
            "Fetched 35.7 MB in 3s (10.2 MB/s)\n",
            "Reading package lists... Done\n",
            "W: Skipping acquire of configured file 'main/source/Sources' as repository 'https://r2u.stat.illinois.edu/ubuntu jammy InRelease' does not seem to provide it (sources.list entry misspelt?)\n",
            "Reading package lists... Done\n",
            "Building dependency tree... Done\n",
            "Reading state information... Done\n",
            "The following additional packages will be installed:\n",
            "  libportaudio2 libportaudiocpp0\n",
            "Suggested packages:\n",
            "  portaudio19-doc\n",
            "The following NEW packages will be installed:\n",
            "  libportaudio2 libportaudiocpp0 portaudio19-dev\n",
            "0 upgraded, 3 newly installed, 0 to remove and 43 not upgraded.\n",
            "Need to get 188 kB of archives.\n",
            "After this operation, 927 kB of additional disk space will be used.\n",
            "Get:1 http://archive.ubuntu.com/ubuntu jammy/universe amd64 libportaudio2 amd64 19.6.0-1.1 [65.3 kB]\n",
            "Get:2 http://archive.ubuntu.com/ubuntu jammy/universe amd64 libportaudiocpp0 amd64 19.6.0-1.1 [16.1 kB]\n",
            "Get:3 http://archive.ubuntu.com/ubuntu jammy/universe amd64 portaudio19-dev amd64 19.6.0-1.1 [106 kB]\n",
            "Fetched 188 kB in 1s (167 kB/s)\n",
            "Selecting previously unselected package libportaudio2:amd64.\n",
            "(Reading database ... 126435 files and directories currently installed.)\n",
            "Preparing to unpack .../libportaudio2_19.6.0-1.1_amd64.deb ...\n",
            "Unpacking libportaudio2:amd64 (19.6.0-1.1) ...\n",
            "Selecting previously unselected package libportaudiocpp0:amd64.\n",
            "Preparing to unpack .../libportaudiocpp0_19.6.0-1.1_amd64.deb ...\n",
            "Unpacking libportaudiocpp0:amd64 (19.6.0-1.1) ...\n",
            "Selecting previously unselected package portaudio19-dev:amd64.\n",
            "Preparing to unpack .../portaudio19-dev_19.6.0-1.1_amd64.deb ...\n",
            "Unpacking portaudio19-dev:amd64 (19.6.0-1.1) ...\n",
            "Setting up libportaudio2:amd64 (19.6.0-1.1) ...\n",
            "Setting up libportaudiocpp0:amd64 (19.6.0-1.1) ...\n",
            "Setting up portaudio19-dev:amd64 (19.6.0-1.1) ...\n",
            "Processing triggers for libc-bin (2.35-0ubuntu3.8) ...\n",
            "/sbin/ldconfig.real: /usr/local/lib/libur_adapter_level_zero_v2.so.0 is not a symbolic link\n",
            "\n",
            "/sbin/ldconfig.real: /usr/local/lib/libur_loader.so.0 is not a symbolic link\n",
            "\n",
            "/sbin/ldconfig.real: /usr/local/lib/libtbbbind_2_5.so.3 is not a symbolic link\n",
            "\n",
            "/sbin/ldconfig.real: /usr/local/lib/libhwloc.so.15 is not a symbolic link\n",
            "\n",
            "/sbin/ldconfig.real: /usr/local/lib/libtcm_debug.so.1 is not a symbolic link\n",
            "\n",
            "/sbin/ldconfig.real: /usr/local/lib/libtbbbind_2_0.so.3 is not a symbolic link\n",
            "\n",
            "/sbin/ldconfig.real: /usr/local/lib/libtbbmalloc.so.2 is not a symbolic link\n",
            "\n",
            "/sbin/ldconfig.real: /usr/local/lib/libur_adapter_level_zero.so.0 is not a symbolic link\n",
            "\n",
            "/sbin/ldconfig.real: /usr/local/lib/libtbbmalloc_proxy.so.2 is not a symbolic link\n",
            "\n",
            "/sbin/ldconfig.real: /usr/local/lib/libumf.so.0 is not a symbolic link\n",
            "\n",
            "/sbin/ldconfig.real: /usr/local/lib/libur_adapter_opencl.so.0 is not a symbolic link\n",
            "\n",
            "/sbin/ldconfig.real: /usr/local/lib/libtbb.so.12 is not a symbolic link\n",
            "\n",
            "/sbin/ldconfig.real: /usr/local/lib/libtcm.so.1 is not a symbolic link\n",
            "\n",
            "/sbin/ldconfig.real: /usr/local/lib/libtbbbind.so.3 is not a symbolic link\n",
            "\n",
            "Collecting pyaudio\n",
            "  Using cached PyAudio-0.2.14.tar.gz (47 kB)\n",
            "  Installing build dependencies ... \u001b[?25l\u001b[?25hdone\n",
            "  Getting requirements to build wheel ... \u001b[?25l\u001b[?25hdone\n",
            "  Preparing metadata (pyproject.toml) ... \u001b[?25l\u001b[?25hdone\n",
            "Building wheels for collected packages: pyaudio\n",
            "  Building wheel for pyaudio (pyproject.toml) ... \u001b[?25l\u001b[?25hdone\n",
            "  Created wheel for pyaudio: filename=pyaudio-0.2.14-cp312-cp312-linux_x86_64.whl size=68668 sha256=6684e0ef599353632a73cdd3c7bcac3889a79853b833115b4b21fa674da27d2a\n",
            "  Stored in directory: /root/.cache/pip/wheels/68/c7/33/c6a6b210cb5819ec5c219928c794a447742a7d86d21c0b92e6\n",
            "Successfully built pyaudio\n",
            "Installing collected packages: pyaudio\n",
            "Successfully installed pyaudio-0.2.14\n"
          ]
        }
      ]
    },
    {
      "cell_type": "code",
      "source": [
        "#import section\n",
        "import speech_recognition as sr\n",
        "from gtts import gTTS\n",
        "import os\n",
        "from datetime import datetime\n",
        "import playsound\n",
        "import pyjokes\n",
        "import wikipedia\n",
        "#import pyaudio\n",
        "import webbrowser\n",
        "#import winshell # Removed winshell as it is not available on Colab\n",
        "from pygame import mixer\n",
        "\n",
        "\n",
        "#get mic audio\n",
        "def get_audio():\n",
        "    r = sr.Recognizer()\n",
        "    with sr.Microphone() as source:\n",
        "        r.pause_threshold = 1\n",
        "        # wait for a second to let the recognizer adjust the\n",
        "        # energy threshold based on the surrounding noise level\n",
        "        r.adjust_for_ambient_noise(source, duration=1)\n",
        "        audio = r.listen(source)\n",
        "        said = \"\"\n",
        "        try:\n",
        "            said = r.recognize_google(audio)\n",
        "            print(said)\n",
        "        except sr.UnknownValueError:\n",
        "            speak(\"Sorry, I did not get that.\")\n",
        "        except sr.RequestError:\n",
        "            speak(\"Sorry, the service is not available\")\n",
        "    return said.lower()\n",
        "\n",
        "#speak converted audio to text\n",
        "def speak(text):\n",
        "    tts = gTTS(text=text, lang='en')\n",
        "    filename = \"voice.mp3\"\n",
        "    try:\n",
        "        os.remove(filename)\n",
        "    except OSError:\n",
        "        pass\n",
        "    tts.save(filename)\n",
        "    playsound.playsound(filename)\n",
        "\n",
        "#function to respond to commands\n",
        "def respond(text):\n",
        "    print(\"Text from get audio \" + text)\n",
        "    if 'youtube' in text:\n",
        "        speak(\"What do you want to search for?\")\n",
        "        keyword = get_audio()\n",
        "        if keyword!= '':\n",
        "            url = f\"https://www.youtube.com/results?search_query={keyword}\"\n",
        "            webbrowser.get().open(url)\n",
        "            speak(f\"Here is what I have found for {keyword} on youtube\")\n",
        "    elif 'search' in text:\n",
        "        speak(\"What do you want to search for?\")\n",
        "        query = get_audio()\n",
        "        if query !='':\n",
        "            result = wikipedia.summary(query, sentences=3)\n",
        "            speak(\"According to wikipedia\")\n",
        "            print(result)\n",
        "            speak(result)\n",
        "    elif 'joke' in text:\n",
        "        speak(pyjokes.get_joke())\n",
        "    #elif 'empty recycle bin' in text: # Removed as winshell is not available\n",
        "        #winshell.recycle_bin().empty(confirm=False, show_progress=False, sound=True)\n",
        "        #speak(\"Recycle bin emptied\")\n",
        "    elif 'what time' in text:\n",
        "        strTime = datetime.today().strftime(\"%H:%M %p\")\n",
        "        print(strTime)\n",
        "        speak(strTime)\n",
        "    elif 'play music' in text or 'play song' in text:\n",
        "        speak(\"Now playing...\")\n",
        "        music_dir = \"C:\\\\Users\\\\UserName\\\\Downloads\\\\Music\\\\\" #add your music directory here..\n",
        "        songs = os.listdir(music_dir)\n",
        "        #counter = 0\n",
        "        print(songs)\n",
        "        playmusic(music_dir + \"\\\\\" + songs[0])\n",
        "    elif 'stop music' in text:\n",
        "        speak(\"Stopping playback.\")\n",
        "        stopmusic()\n",
        "    elif 'exit' in text:\n",
        "        speak(\"Goodbye, till next time\")\n",
        "        exit()\n",
        "#play music\n",
        "def playmusic(song):\n",
        "    mixer.init()\n",
        "    mixer.music.load(song)\n",
        "    mixer.music.play()\n",
        "#stop music\n",
        "def stopmusic():\n",
        "    mixer.music.stop()\n",
        "\n",
        "#let's try it\n",
        "#text = get_audio()\n",
        "#speak(text)\n",
        "while True:\n",
        "    print(\"I am listening...\")\n",
        "    text = get_audio()\n",
        "    respond(text)"
      ],
      "metadata": {
        "colab": {
          "base_uri": "https://localhost:8080/",
          "height": 370
        },
        "id": "j-kN4yEuWGgr",
        "outputId": "05c88177-2f3c-4836-cfbd-9300e9c38673"
      },
      "execution_count": 12,
      "outputs": [
        {
          "output_type": "stream",
          "name": "stdout",
          "text": [
            "I am listening...\n"
          ]
        },
        {
          "output_type": "error",
          "ename": "OSError",
          "evalue": "No Default Input Device Available",
          "traceback": [
            "\u001b[0;31m---------------------------------------------------------------------------\u001b[0m",
            "\u001b[0;31mOSError\u001b[0m                                   Traceback (most recent call last)",
            "\u001b[0;32m/tmp/ipython-input-2196839367.py\u001b[0m in \u001b[0;36m<cell line: 0>\u001b[0;34m()\u001b[0m\n\u001b[1;32m     97\u001b[0m \u001b[0;32mwhile\u001b[0m \u001b[0;32mTrue\u001b[0m\u001b[0;34m:\u001b[0m\u001b[0;34m\u001b[0m\u001b[0;34m\u001b[0m\u001b[0m\n\u001b[1;32m     98\u001b[0m     \u001b[0mprint\u001b[0m\u001b[0;34m(\u001b[0m\u001b[0;34m\"I am listening...\"\u001b[0m\u001b[0;34m)\u001b[0m\u001b[0;34m\u001b[0m\u001b[0;34m\u001b[0m\u001b[0m\n\u001b[0;32m---> 99\u001b[0;31m     \u001b[0mtext\u001b[0m \u001b[0;34m=\u001b[0m \u001b[0mget_audio\u001b[0m\u001b[0;34m(\u001b[0m\u001b[0;34m)\u001b[0m\u001b[0;34m\u001b[0m\u001b[0;34m\u001b[0m\u001b[0m\n\u001b[0m\u001b[1;32m    100\u001b[0m     \u001b[0mrespond\u001b[0m\u001b[0;34m(\u001b[0m\u001b[0mtext\u001b[0m\u001b[0;34m)\u001b[0m\u001b[0;34m\u001b[0m\u001b[0;34m\u001b[0m\u001b[0m\n",
            "\u001b[0;32m/tmp/ipython-input-2196839367.py\u001b[0m in \u001b[0;36mget_audio\u001b[0;34m()\u001b[0m\n\u001b[1;32m     16\u001b[0m \u001b[0;32mdef\u001b[0m \u001b[0mget_audio\u001b[0m\u001b[0;34m(\u001b[0m\u001b[0;34m)\u001b[0m\u001b[0;34m:\u001b[0m\u001b[0;34m\u001b[0m\u001b[0;34m\u001b[0m\u001b[0m\n\u001b[1;32m     17\u001b[0m     \u001b[0mr\u001b[0m \u001b[0;34m=\u001b[0m \u001b[0msr\u001b[0m\u001b[0;34m.\u001b[0m\u001b[0mRecognizer\u001b[0m\u001b[0;34m(\u001b[0m\u001b[0;34m)\u001b[0m\u001b[0;34m\u001b[0m\u001b[0;34m\u001b[0m\u001b[0m\n\u001b[0;32m---> 18\u001b[0;31m     \u001b[0;32mwith\u001b[0m \u001b[0msr\u001b[0m\u001b[0;34m.\u001b[0m\u001b[0mMicrophone\u001b[0m\u001b[0;34m(\u001b[0m\u001b[0;34m)\u001b[0m \u001b[0;32mas\u001b[0m \u001b[0msource\u001b[0m\u001b[0;34m:\u001b[0m\u001b[0;34m\u001b[0m\u001b[0;34m\u001b[0m\u001b[0m\n\u001b[0m\u001b[1;32m     19\u001b[0m         \u001b[0mr\u001b[0m\u001b[0;34m.\u001b[0m\u001b[0mpause_threshold\u001b[0m \u001b[0;34m=\u001b[0m \u001b[0;36m1\u001b[0m\u001b[0;34m\u001b[0m\u001b[0;34m\u001b[0m\u001b[0m\n\u001b[1;32m     20\u001b[0m         \u001b[0;31m# wait for a second to let the recognizer adjust the\u001b[0m\u001b[0;34m\u001b[0m\u001b[0;34m\u001b[0m\u001b[0m\n",
            "\u001b[0;32m/usr/local/lib/python3.12/dist-packages/speech_recognition/__init__.py\u001b[0m in \u001b[0;36m__init__\u001b[0;34m(self, device_index, sample_rate, chunk_size)\u001b[0m\n\u001b[1;32m     80\u001b[0m                 \u001b[0;32massert\u001b[0m \u001b[0;36m0\u001b[0m \u001b[0;34m<=\u001b[0m \u001b[0mdevice_index\u001b[0m \u001b[0;34m<\u001b[0m \u001b[0mcount\u001b[0m\u001b[0;34m,\u001b[0m \u001b[0;34m\"Device index out of range ({} devices available; device index should be between 0 and {} inclusive)\"\u001b[0m\u001b[0;34m.\u001b[0m\u001b[0mformat\u001b[0m\u001b[0;34m(\u001b[0m\u001b[0mcount\u001b[0m\u001b[0;34m,\u001b[0m \u001b[0mcount\u001b[0m \u001b[0;34m-\u001b[0m \u001b[0;36m1\u001b[0m\u001b[0;34m)\u001b[0m\u001b[0;34m\u001b[0m\u001b[0;34m\u001b[0m\u001b[0m\n\u001b[1;32m     81\u001b[0m             \u001b[0;32mif\u001b[0m \u001b[0msample_rate\u001b[0m \u001b[0;32mis\u001b[0m \u001b[0;32mNone\u001b[0m\u001b[0;34m:\u001b[0m  \u001b[0;31m# automatically set the sample rate to the hardware's default sample rate if not specified\u001b[0m\u001b[0;34m\u001b[0m\u001b[0;34m\u001b[0m\u001b[0m\n\u001b[0;32m---> 82\u001b[0;31m                 \u001b[0mdevice_info\u001b[0m \u001b[0;34m=\u001b[0m \u001b[0maudio\u001b[0m\u001b[0;34m.\u001b[0m\u001b[0mget_device_info_by_index\u001b[0m\u001b[0;34m(\u001b[0m\u001b[0mdevice_index\u001b[0m\u001b[0;34m)\u001b[0m \u001b[0;32mif\u001b[0m \u001b[0mdevice_index\u001b[0m \u001b[0;32mis\u001b[0m \u001b[0;32mnot\u001b[0m \u001b[0;32mNone\u001b[0m \u001b[0;32melse\u001b[0m \u001b[0maudio\u001b[0m\u001b[0;34m.\u001b[0m\u001b[0mget_default_input_device_info\u001b[0m\u001b[0;34m(\u001b[0m\u001b[0;34m)\u001b[0m\u001b[0;34m\u001b[0m\u001b[0;34m\u001b[0m\u001b[0m\n\u001b[0m\u001b[1;32m     83\u001b[0m                 \u001b[0;32massert\u001b[0m \u001b[0misinstance\u001b[0m\u001b[0;34m(\u001b[0m\u001b[0mdevice_info\u001b[0m\u001b[0;34m.\u001b[0m\u001b[0mget\u001b[0m\u001b[0;34m(\u001b[0m\u001b[0;34m\"defaultSampleRate\"\u001b[0m\u001b[0;34m)\u001b[0m\u001b[0;34m,\u001b[0m \u001b[0;34m(\u001b[0m\u001b[0mfloat\u001b[0m\u001b[0;34m,\u001b[0m \u001b[0mint\u001b[0m\u001b[0;34m)\u001b[0m\u001b[0;34m)\u001b[0m \u001b[0;32mand\u001b[0m \u001b[0mdevice_info\u001b[0m\u001b[0;34m[\u001b[0m\u001b[0;34m\"defaultSampleRate\"\u001b[0m\u001b[0;34m]\u001b[0m \u001b[0;34m>\u001b[0m \u001b[0;36m0\u001b[0m\u001b[0;34m,\u001b[0m \u001b[0;34m\"Invalid device info returned from PyAudio: {}\"\u001b[0m\u001b[0;34m.\u001b[0m\u001b[0mformat\u001b[0m\u001b[0;34m(\u001b[0m\u001b[0mdevice_info\u001b[0m\u001b[0;34m)\u001b[0m\u001b[0;34m\u001b[0m\u001b[0;34m\u001b[0m\u001b[0m\n\u001b[1;32m     84\u001b[0m                 \u001b[0msample_rate\u001b[0m \u001b[0;34m=\u001b[0m \u001b[0mint\u001b[0m\u001b[0;34m(\u001b[0m\u001b[0mdevice_info\u001b[0m\u001b[0;34m[\u001b[0m\u001b[0;34m\"defaultSampleRate\"\u001b[0m\u001b[0;34m]\u001b[0m\u001b[0;34m)\u001b[0m\u001b[0;34m\u001b[0m\u001b[0;34m\u001b[0m\u001b[0m\n",
            "\u001b[0;32m/usr/local/lib/python3.12/dist-packages/pyaudio/__init__.py\u001b[0m in \u001b[0;36mget_default_input_device_info\u001b[0;34m(self)\u001b[0m\n\u001b[1;32m    810\u001b[0m         \u001b[0;34m:\u001b[0m\u001b[0mrtype\u001b[0m\u001b[0;34m:\u001b[0m \u001b[0mdict\u001b[0m\u001b[0;34m\u001b[0m\u001b[0;34m\u001b[0m\u001b[0m\n\u001b[1;32m    811\u001b[0m         \"\"\"\n\u001b[0;32m--> 812\u001b[0;31m         \u001b[0mdevice_index\u001b[0m \u001b[0;34m=\u001b[0m \u001b[0mpa\u001b[0m\u001b[0;34m.\u001b[0m\u001b[0mget_default_input_device\u001b[0m\u001b[0;34m(\u001b[0m\u001b[0;34m)\u001b[0m\u001b[0;34m\u001b[0m\u001b[0;34m\u001b[0m\u001b[0m\n\u001b[0m\u001b[1;32m    813\u001b[0m         \u001b[0;32mreturn\u001b[0m \u001b[0mself\u001b[0m\u001b[0;34m.\u001b[0m\u001b[0mget_device_info_by_index\u001b[0m\u001b[0;34m(\u001b[0m\u001b[0mdevice_index\u001b[0m\u001b[0;34m)\u001b[0m\u001b[0;34m\u001b[0m\u001b[0;34m\u001b[0m\u001b[0m\n\u001b[1;32m    814\u001b[0m \u001b[0;34m\u001b[0m\u001b[0m\n",
            "\u001b[0;31mOSError\u001b[0m: No Default Input Device Available"
          ]
        }
      ]
    }
  ]
}