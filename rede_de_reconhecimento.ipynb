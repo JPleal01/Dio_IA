{
  "nbformat": 4,
  "nbformat_minor": 0,
  "metadata": {
    "colab": {
      "provenance": [],
      "authorship_tag": "ABX9TyMROrEJSJ2bb1SK6V8wYSAR",
      "include_colab_link": true
    },
    "kernelspec": {
      "name": "python3",
      "display_name": "Python 3"
    },
    "language_info": {
      "name": "python"
    }
  },
  "cells": [
    {
      "cell_type": "markdown",
      "metadata": {
        "id": "view-in-github",
        "colab_type": "text"
      },
      "source": [
        "<a href=\"https://colab.research.google.com/github/JPleal01/Dio_IA/blob/main/rede_de_reconhecimento.ipynb\" target=\"_parent\"><img src=\"https://colab.research.google.com/assets/colab-badge.svg\" alt=\"Open In Colab\"/></a>"
      ]
    },
    {
      "cell_type": "code",
      "execution_count": null,
      "metadata": {
        "id": "I7Semnmlmweh"
      },
      "outputs": [],
      "source": [
        "!pip install tensorflow opencv-python-headless\n",
        "\n",
        "import cv2\n",
        "import numpy as np\n",
        "import tensorflow as tf\n",
        "from tensorflow.keras.models import load_model\n",
        "import matplotlib.pyplot as plt"
      ]
    },
    {
      "cell_type": "code",
      "source": [
        "face_cascade = cv2.CascadeClassifier(cv2.data.haarcascades + 'haarcascade_frontalface_default.xml')  #Utilizando o reconhecedor de faces do haar cascades"
      ],
      "metadata": {
        "id": "2nB0ISLHm25j"
      },
      "execution_count": null,
      "outputs": []
    },
    {
      "cell_type": "code",
      "source": [
        "image = cv2.imread('/content/image.jpeg')\n",
        "gray = cv2.cvtColor(image, cv2.COLOR_BGR2GRAY)"
      ],
      "metadata": {
        "id": "JcHxuMCtourT"
      },
      "execution_count": 15,
      "outputs": []
    },
    {
      "cell_type": "code",
      "metadata": {
        "id": "f14d3d5f"
      },
      "source": [
        "import os\n",
        "print(os.listdir('/content/'))"
      ],
      "execution_count": null,
      "outputs": []
    },
    {
      "cell_type": "code",
      "source": [
        "faces = face_cascade.detectMultiScale(gray, scaleFactor=1.1, minNeighbors=5)\n",
        "\n",
        "for (x, y, w, h) in faces:\n",
        "    cv2.rectangle(image, (x, y), (x+w, y+h), (255, 0, 0), 2)"
      ],
      "metadata": {
        "id": "HaywVmXNm3E_"
      },
      "execution_count": null,
      "outputs": []
    },
    {
      "cell_type": "code",
      "source": [
        "face_imgs = []\n",
        "for (x, y, w, h) in faces:\n",
        "    face = image[y:y+h, x:x+w]\n",
        "    face_resized = cv2.resize(face, (160, 160)) / 255.0\n",
        "    face_imgs.append(face_resized)"
      ],
      "metadata": {
        "id": "E_PQPgTBm3Ic"
      },
      "execution_count": null,
      "outputs": []
    },
    {
      "cell_type": "code",
      "source": [
        "import os\n",
        "print(os.getcwd())\n",
        "print(os.listdir())"
      ],
      "metadata": {
        "id": "ZY8CejTvpLFH"
      },
      "execution_count": null,
      "outputs": []
    },
    {
      "cell_type": "code",
      "source": [],
      "metadata": {
        "id": "c-1i4w3so9u9"
      },
      "execution_count": null,
      "outputs": []
    },
    {
      "cell_type": "code",
      "source": [
        "'''%cd . /content/\n",
        "model = load_model('') #Não defini ainda\n",
        "\n",
        "for face in face_imgs:\n",
        "    pred = model.predict(np.expand_dims(face, axis=0))\n",
        "    classe = np.argmax(pred)\n",
        "    print(\"Classe predita:\", classe)'''"
      ],
      "metadata": {
        "id": "05dnw-a7m9uT"
      },
      "execution_count": null,
      "outputs": []
    },
    {
      "cell_type": "code",
      "source": [
        "plt.imshow(cv2.cvtColor(image, cv2.COLOR_BGR2RGB))\n",
        "plt.axis('off')\n",
        "plt.show()"
      ],
      "metadata": {
        "id": "7KVlujY5nAfa"
      },
      "execution_count": null,
      "outputs": []
    }
  ]
}