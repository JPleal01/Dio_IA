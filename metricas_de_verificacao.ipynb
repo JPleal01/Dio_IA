{
  "nbformat": 4,
  "nbformat_minor": 0,
  "metadata": {
    "colab": {
      "provenance": [],
      "authorship_tag": "ABX9TyNFgy9pEc7UyrlSIcaYOf4j",
      "include_colab_link": true
    },
    "kernelspec": {
      "name": "python3",
      "display_name": "Python 3"
    },
    "language_info": {
      "name": "python"
    }
  },
  "cells": [
    {
      "cell_type": "markdown",
      "metadata": {
        "id": "view-in-github",
        "colab_type": "text"
      },
      "source": [
        "<a href=\"https://colab.research.google.com/github/JPleal01/Dio_IA/blob/main/metricas_de_verificacao.ipynb\" target=\"_parent\"><img src=\"https://colab.research.google.com/assets/colab-badge.svg\" alt=\"Open In Colab\"/></a>"
      ]
    },
    {
      "cell_type": "code",
      "execution_count": null,
      "metadata": {
        "id": "0aAo0Ik5pFWG"
      },
      "outputs": [],
      "source": [
        "#Carregar bibliotecas e dataset para treinamento\n",
        "#dataset bem conhecido, números escritos para classificação, principal intuíto é calcular as métricas\n",
        "from tensorflow.keras import datasets, layers, models\n",
        "from tensorflow import math, argmax\n",
        "import matplotlib.pyplot as plt\n",
        "import numpy as np\n",
        "import seaborn as sns\n",
        "import pandas as pd\n",
        "\n",
        "%load_ext tensorboard\n",
        "logdir = 'log'\n",
        "(train_images, train_labels), (test_images, test_labels) = datasets.mnist.load_data()"
      ]
    },
    {
      "cell_type": "code",
      "source": [
        "#redimensionando as imagens\n",
        "train_images = train_images.reshape((60000, 28, 28, 1))\n",
        "test_images = test_images.reshape((10000, 28, 28, 1))\n",
        "\n",
        "train_images, test_images = train_images / 255.0, test_images / 255.0\n",
        "classes = [0,1,2,3,4,5,6,7,8,9]"
      ],
      "metadata": {
        "id": "8blAgPVVpNoD"
      },
      "execution_count": null,
      "outputs": []
    },
    {
      "cell_type": "code",
      "source": [
        "#Treinamento do modelo\n",
        "model = models.Sequential()\n",
        "model.add(layers.Conv2D(32, (3, 3), activation='relu', input_shape=(28, 28, 1)))\n",
        "model.add(layers.MaxPool2D((2, 2)))\n",
        "model.add(layers.Conv2D(64, (3, 3), activation='relu'))\n",
        "model.add(layers.MaxPool2D((2, 2)))\n",
        "model.add(layers.Conv2D(64, (3, 3), activation='relu'))\n",
        "\n",
        "model.add(layers.Flatten())\n",
        "model.add(layers.Dense(64, activation='relu'))\n",
        "model.add(layers.Dense(10, activation='softmax'))\n",
        "\n",
        "model.compile(optimizer='adam',\n",
        "              loss='sparse_categorical_crossentropy',\n",
        "              metrics=['accuracy'])\n",
        "\n",
        "model.fit(train_images, train_labels, epochs=5, validation_data=(test_images, test_labels))"
      ],
      "metadata": {
        "id": "dplPHQv3pN1D"
      },
      "execution_count": null,
      "outputs": []
    },
    {
      "cell_type": "code",
      "source": [
        "y_true = test_labels\n",
        "y_pred = model.predict(test_images)"
      ],
      "metadata": {
        "id": "Wpdmts3-pOBQ"
      },
      "execution_count": null,
      "outputs": []
    },
    {
      "cell_type": "code",
      "source": [
        "#Montando matriz de confusão\n",
        "predicted_labels = argmax(y_pred, axis=1)\n",
        "con_mat = math.confusion_matrix(labels=y_true,predictions=predicted_labels).numpy()\n",
        "con_mat_norm = np.around(con_mat.astype('float') / con_mat.sum(axis=1)[:, np.newaxis], decimals=4)\n",
        "\n",
        "con_mat_df = pd.DataFrame(con_mat_norm,\n",
        "                          index = classes,\n",
        "                          columns = classes)\n",
        "\n",
        "figure = plt.figure(figsize=(8, 8))\n",
        "sns.heatmap(con_mat_df, annot=True,cmap=plt.cm.Blues)\n",
        "plt.tight_layout()\n",
        "plt.ylabel('True label')\n",
        "plt.xlabel('Predicted label')\n",
        "plt.show()"
      ],
      "metadata": {
        "id": "pM9-kLRnpVWf"
      },
      "execution_count": null,
      "outputs": []
    },
    {
      "cell_type": "code",
      "source": [
        "# Desenvolver logica para calculo das variaveis solicitadas.\n",
        "\n",
        "#from sklearn.metrics import classification_report\n",
        "#predicted_labels = argmax(y_pred, axis=1)\n",
        "#print(classification_report(y_true, predicted_labels, target_names=[str(i) for i in classes]))\n",
        "\n",
        "for classe in con_mat_df.index:\n",
        "    TP = con_mat_df.loc[classe, classe]\n",
        "    FP = con_mat_df[classe].sum() - TP\n",
        "    FN = con_mat_df.loc[classe].sum() - TP\n",
        "    TN = con_mat_df.values.sum() - (TP + FP + FN)\n",
        "\n",
        "sensibilidade = TP / (TP + FN)\n",
        "especificidade = TN / (TN + FP)\n",
        "acuracia = (TP + TN) / (TP + TN + FP + FN)\n",
        "precisao = TP / (TP + FP)\n",
        "f1_score = 2 * (precisao * sensibilidade) / (precisao + sensibilidade)\n",
        "\n",
        "print(f\"Sensibilidade: {sensibilidade}\")\n",
        "print(f\"Especificidade: {especificidade}\")\n",
        "print(f\"Acurácia: {acuracia}\")\n",
        "print(f\"Precisão: {precisao}\")\n",
        "print(f\"F-Score: {f1_score}\")\n",
        "\n",
        "\n"
      ],
      "metadata": {
        "id": "KIhLMDZmpVh7"
      },
      "execution_count": null,
      "outputs": []
    },
    {
      "cell_type": "code",
      "source": [
        "from sklearn.metrics import roc_curve, auc\n",
        "from sklearn.preprocessing import label_binarize\n",
        "from tensorflow.keras.utils import to_categorical\n",
        "\n",
        "# Número de classes\n",
        "n_classes = len(classes) # Use the length of the classes list\n",
        "\n",
        "# One-hot encode the true labels\n",
        "y_true_one_hot = to_categorical(y_true, num_classes=n_classes)\n",
        "\n",
        "# Gráfico\n",
        "plt.figure(figsize=(10, 8))\n",
        "\n",
        "for i in range(n_classes):\n",
        "    fpr, tpr, _ = roc_curve(y_true_one_hot[:, i], y_pred[:, i])\n",
        "    roc_auc = auc(fpr, tpr)\n",
        "    plt.plot(fpr, tpr, lw=2, label=f'Classe {i} (AUC = {roc_auc:.2f})')\n",
        "\n",
        "# Linha de referência (modelo aleatório)\n",
        "plt.plot([0, 1], [0, 1], 'k--', lw=2)\n",
        "\n",
        "# Estética do gráfico\n",
        "plt.xlim([0.0, 1.0])\n",
        "plt.ylim([0.0, 1.05])\n",
        "plt.xlabel('Taxa de Falsos Positivos')\n",
        "plt.ylabel('Taxa de Verdadeiros Positivos')\n",
        "plt.title('Curvas ROC - Multiclasse (One-vs-Rest)')\n",
        "plt.legend(loc=\"lower right\")\n",
        "plt.grid(True)\n",
        "plt.tight_layout()\n",
        "plt.show()"
      ],
      "metadata": {
        "id": "okzQHwdZwl1n"
      },
      "execution_count": null,
      "outputs": []
    }
  ]
}